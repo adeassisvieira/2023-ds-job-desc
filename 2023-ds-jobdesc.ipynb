{
 "cells": [
  {
   "attachments": {},
   "cell_type": "markdown",
   "metadata": {},
   "source": [
    "# Libraries"
   ]
  },
  {
   "cell_type": "code",
   "execution_count": 15,
   "metadata": {},
   "outputs": [],
   "source": [
    "import pandas as pd\n",
    "\n",
    "from thefuzz import process"
   ]
  },
  {
   "attachments": {},
   "cell_type": "markdown",
   "metadata": {},
   "source": [
    "# Configurations"
   ]
  },
  {
   "cell_type": "code",
   "execution_count": 16,
   "metadata": {},
   "outputs": [],
   "source": [
    "# Pandas configuration for long phrases\n",
    "pd.set_option('display.max_colwidth', 50)"
   ]
  },
  {
   "attachments": {},
   "cell_type": "markdown",
   "metadata": {},
   "source": [
    "# Data"
   ]
  },
  {
   "cell_type": "code",
   "execution_count": 17,
   "metadata": {},
   "outputs": [],
   "source": [
    "df = pd.read_csv('data/Jobs.csv')"
   ]
  },
  {
   "cell_type": "code",
   "execution_count": 18,
   "metadata": {},
   "outputs": [
    {
     "data": {
      "text/html": [
       "<div>\n",
       "<style scoped>\n",
       "    .dataframe tbody tr th:only-of-type {\n",
       "        vertical-align: middle;\n",
       "    }\n",
       "\n",
       "    .dataframe tbody tr th {\n",
       "        vertical-align: top;\n",
       "    }\n",
       "\n",
       "    .dataframe thead th {\n",
       "        text-align: right;\n",
       "    }\n",
       "</style>\n",
       "<table border=\"1\" class=\"dataframe\">\n",
       "  <thead>\n",
       "    <tr style=\"text-align: right;\">\n",
       "      <th></th>\n",
       "      <th>Unnamed: 0</th>\n",
       "      <th>title</th>\n",
       "      <th>company</th>\n",
       "      <th>announcement</th>\n",
       "      <th>description</th>\n",
       "    </tr>\n",
       "  </thead>\n",
       "  <tbody>\n",
       "    <tr>\n",
       "      <th>0</th>\n",
       "      <td>0</td>\n",
       "      <td>Senior Analyst, Data Science and Analytics</td>\n",
       "      <td>TransUnion</td>\n",
       "      <td>The Muse</td>\n",
       "      <td>TransUnion's Job Applicant Privacy Notice  Wha...</td>\n",
       "    </tr>\n",
       "    <tr>\n",
       "      <th>1</th>\n",
       "      <td>1</td>\n",
       "      <td>Senior Data Scientist</td>\n",
       "      <td>Grubhub Holdings, Inc.</td>\n",
       "      <td>ZipRecruiter</td>\n",
       "      <td>About The Opportunity  We're all about connect...</td>\n",
       "    </tr>\n",
       "    <tr>\n",
       "      <th>2</th>\n",
       "      <td>2</td>\n",
       "      <td>Lead Data Science Analyst</td>\n",
       "      <td>Discover Financial Services</td>\n",
       "      <td>LinkedIn</td>\n",
       "      <td>Discover. A brighter future.  With us, you’ll ...</td>\n",
       "    </tr>\n",
       "    <tr>\n",
       "      <th>3</th>\n",
       "      <td>3</td>\n",
       "      <td>Data Science Intern</td>\n",
       "      <td>AbelsonTaylor</td>\n",
       "      <td>Startup Jobs</td>\n",
       "      <td>Are you a 2023 college graduate or rising coll...</td>\n",
       "    </tr>\n",
       "    <tr>\n",
       "      <th>4</th>\n",
       "      <td>4</td>\n",
       "      <td>Data Scientist</td>\n",
       "      <td>NORC at the University of Chicago</td>\n",
       "      <td>SimplyHired</td>\n",
       "      <td>JOB DESCRIPTION:  At NORC, Data Scientists pla...</td>\n",
       "    </tr>\n",
       "  </tbody>\n",
       "</table>\n",
       "</div>"
      ],
      "text/plain": [
       "   Unnamed: 0                                       title  \\\n",
       "0           0  Senior Analyst, Data Science and Analytics   \n",
       "1           1                       Senior Data Scientist   \n",
       "2           2                   Lead Data Science Analyst   \n",
       "3           3                         Data Science Intern   \n",
       "4           4                              Data Scientist   \n",
       "\n",
       "                             company  announcement  \\\n",
       "0                         TransUnion      The Muse   \n",
       "1             Grubhub Holdings, Inc.  ZipRecruiter   \n",
       "2        Discover Financial Services      LinkedIn   \n",
       "3                      AbelsonTaylor  Startup Jobs   \n",
       "4  NORC at the University of Chicago   SimplyHired   \n",
       "\n",
       "                                         description  \n",
       "0  TransUnion's Job Applicant Privacy Notice  Wha...  \n",
       "1  About The Opportunity  We're all about connect...  \n",
       "2  Discover. A brighter future.  With us, you’ll ...  \n",
       "3  Are you a 2023 college graduate or rising coll...  \n",
       "4  JOB DESCRIPTION:  At NORC, Data Scientists pla...  "
      ]
     },
     "execution_count": 18,
     "metadata": {},
     "output_type": "execute_result"
    }
   ],
   "source": [
    "df.head()"
   ]
  },
  {
   "attachments": {},
   "cell_type": "markdown",
   "metadata": {},
   "source": [
    "# Cleaning Data"
   ]
  },
  {
   "cell_type": "code",
   "execution_count": 19,
   "metadata": {},
   "outputs": [],
   "source": [
    "df = df.drop('Unnamed: 0', axis=1)"
   ]
  },
  {
   "cell_type": "code",
   "execution_count": 20,
   "metadata": {},
   "outputs": [
    {
     "data": {
      "text/html": [
       "<div>\n",
       "<style scoped>\n",
       "    .dataframe tbody tr th:only-of-type {\n",
       "        vertical-align: middle;\n",
       "    }\n",
       "\n",
       "    .dataframe tbody tr th {\n",
       "        vertical-align: top;\n",
       "    }\n",
       "\n",
       "    .dataframe thead th {\n",
       "        text-align: right;\n",
       "    }\n",
       "</style>\n",
       "<table border=\"1\" class=\"dataframe\">\n",
       "  <thead>\n",
       "    <tr style=\"text-align: right;\">\n",
       "      <th></th>\n",
       "      <th>title</th>\n",
       "      <th>company</th>\n",
       "      <th>announcement</th>\n",
       "      <th>description</th>\n",
       "    </tr>\n",
       "  </thead>\n",
       "  <tbody>\n",
       "    <tr>\n",
       "      <th>0</th>\n",
       "      <td>Senior Analyst, Data Science and Analytics</td>\n",
       "      <td>TransUnion</td>\n",
       "      <td>The Muse</td>\n",
       "      <td>TransUnion's Job Applicant Privacy Notice  Wha...</td>\n",
       "    </tr>\n",
       "    <tr>\n",
       "      <th>1</th>\n",
       "      <td>Senior Data Scientist</td>\n",
       "      <td>Grubhub Holdings, Inc.</td>\n",
       "      <td>ZipRecruiter</td>\n",
       "      <td>About The Opportunity  We're all about connect...</td>\n",
       "    </tr>\n",
       "    <tr>\n",
       "      <th>2</th>\n",
       "      <td>Lead Data Science Analyst</td>\n",
       "      <td>Discover Financial Services</td>\n",
       "      <td>LinkedIn</td>\n",
       "      <td>Discover. A brighter future.  With us, you’ll ...</td>\n",
       "    </tr>\n",
       "    <tr>\n",
       "      <th>3</th>\n",
       "      <td>Data Science Intern</td>\n",
       "      <td>AbelsonTaylor</td>\n",
       "      <td>Startup Jobs</td>\n",
       "      <td>Are you a 2023 college graduate or rising coll...</td>\n",
       "    </tr>\n",
       "    <tr>\n",
       "      <th>4</th>\n",
       "      <td>Data Scientist</td>\n",
       "      <td>NORC at the University of Chicago</td>\n",
       "      <td>SimplyHired</td>\n",
       "      <td>JOB DESCRIPTION:  At NORC, Data Scientists pla...</td>\n",
       "    </tr>\n",
       "  </tbody>\n",
       "</table>\n",
       "</div>"
      ],
      "text/plain": [
       "                                        title  \\\n",
       "0  Senior Analyst, Data Science and Analytics   \n",
       "1                       Senior Data Scientist   \n",
       "2                   Lead Data Science Analyst   \n",
       "3                         Data Science Intern   \n",
       "4                              Data Scientist   \n",
       "\n",
       "                             company  announcement  \\\n",
       "0                         TransUnion      The Muse   \n",
       "1             Grubhub Holdings, Inc.  ZipRecruiter   \n",
       "2        Discover Financial Services      LinkedIn   \n",
       "3                      AbelsonTaylor  Startup Jobs   \n",
       "4  NORC at the University of Chicago   SimplyHired   \n",
       "\n",
       "                                         description  \n",
       "0  TransUnion's Job Applicant Privacy Notice  Wha...  \n",
       "1  About The Opportunity  We're all about connect...  \n",
       "2  Discover. A brighter future.  With us, you’ll ...  \n",
       "3  Are you a 2023 college graduate or rising coll...  \n",
       "4  JOB DESCRIPTION:  At NORC, Data Scientists pla...  "
      ]
     },
     "execution_count": 20,
     "metadata": {},
     "output_type": "execute_result"
    }
   ],
   "source": [
    "df.head()"
   ]
  },
  {
   "cell_type": "code",
   "execution_count": 21,
   "metadata": {},
   "outputs": [
    {
     "data": {
      "text/plain": [
       "title           object\n",
       "company         object\n",
       "announcement    object\n",
       "description     object\n",
       "dtype: object"
      ]
     },
     "execution_count": 21,
     "metadata": {},
     "output_type": "execute_result"
    }
   ],
   "source": [
    "# Data types of columns\n",
    "df.dtypes"
   ]
  },
  {
   "cell_type": "code",
   "execution_count": 22,
   "metadata": {},
   "outputs": [
    {
     "name": "stdout",
     "output_type": "stream",
     "text": [
      "<class 'pandas.core.frame.DataFrame'>\n",
      "RangeIndex: 790 entries, 0 to 789\n",
      "Data columns (total 4 columns):\n",
      " #   Column        Non-Null Count  Dtype \n",
      "---  ------        --------------  ----- \n",
      " 0   title         790 non-null    object\n",
      " 1   company       790 non-null    object\n",
      " 2   announcement  790 non-null    object\n",
      " 3   description   790 non-null    object\n",
      "dtypes: object(4)\n",
      "memory usage: 24.8+ KB\n"
     ]
    }
   ],
   "source": [
    "# Dataframe information\n",
    "df.info()"
   ]
  },
  {
   "cell_type": "code",
   "execution_count": 23,
   "metadata": {},
   "outputs": [
    {
     "data": {
      "text/html": [
       "<div>\n",
       "<style scoped>\n",
       "    .dataframe tbody tr th:only-of-type {\n",
       "        vertical-align: middle;\n",
       "    }\n",
       "\n",
       "    .dataframe tbody tr th {\n",
       "        vertical-align: top;\n",
       "    }\n",
       "\n",
       "    .dataframe thead th {\n",
       "        text-align: right;\n",
       "    }\n",
       "</style>\n",
       "<table border=\"1\" class=\"dataframe\">\n",
       "  <thead>\n",
       "    <tr style=\"text-align: right;\">\n",
       "      <th></th>\n",
       "      <th>title</th>\n",
       "      <th>company</th>\n",
       "      <th>announcement</th>\n",
       "      <th>description</th>\n",
       "    </tr>\n",
       "  </thead>\n",
       "  <tbody>\n",
       "  </tbody>\n",
       "</table>\n",
       "</div>"
      ],
      "text/plain": [
       "Empty DataFrame\n",
       "Columns: [title, company, announcement, description]\n",
       "Index: []"
      ]
     },
     "execution_count": 23,
     "metadata": {},
     "output_type": "execute_result"
    }
   ],
   "source": [
    "# Get duplicated values\n",
    "df[df.duplicated()]"
   ]
  },
  {
   "cell_type": "code",
   "execution_count": 24,
   "metadata": {},
   "outputs": [
    {
     "data": {
      "text/html": [
       "<div>\n",
       "<style scoped>\n",
       "    .dataframe tbody tr th:only-of-type {\n",
       "        vertical-align: middle;\n",
       "    }\n",
       "\n",
       "    .dataframe tbody tr th {\n",
       "        vertical-align: top;\n",
       "    }\n",
       "\n",
       "    .dataframe thead th {\n",
       "        text-align: right;\n",
       "    }\n",
       "</style>\n",
       "<table border=\"1\" class=\"dataframe\">\n",
       "  <thead>\n",
       "    <tr style=\"text-align: right;\">\n",
       "      <th></th>\n",
       "      <th>title</th>\n",
       "      <th>company</th>\n",
       "      <th>announcement</th>\n",
       "      <th>description</th>\n",
       "    </tr>\n",
       "  </thead>\n",
       "  <tbody>\n",
       "  </tbody>\n",
       "</table>\n",
       "</div>"
      ],
      "text/plain": [
       "Empty DataFrame\n",
       "Columns: [title, company, announcement, description]\n",
       "Index: []"
      ]
     },
     "execution_count": 24,
     "metadata": {},
     "output_type": "execute_result"
    }
   ],
   "source": [
    "# Missing values\n",
    "df[df['description'].isna()]\n",
    "\n",
    "# There is no NA values. "
   ]
  },
  {
   "cell_type": "code",
   "execution_count": 25,
   "metadata": {},
   "outputs": [
    {
     "data": {
      "text/plain": [
       "515"
      ]
     },
     "execution_count": 25,
     "metadata": {},
     "output_type": "execute_result"
    }
   ],
   "source": [
    "# All type of unique titles of the job\n",
    "df['title'].nunique()"
   ]
  },
  {
   "attachments": {},
   "cell_type": "markdown",
   "metadata": {},
   "source": [
    "There are 515 unique job title, but the most are repeated, so we have to classify this titles in some unique occurences. "
   ]
  },
  {
   "attachments": {},
   "cell_type": "markdown",
   "metadata": {},
   "source": [
    "# Create some unique categories for job title"
   ]
  },
  {
   "cell_type": "code",
   "execution_count": null,
   "metadata": {},
   "outputs": [],
   "source": [
    "job_description = ['Senior Analyst', 'Senior Data Scientist', 'Data Science Manager', ]"
   ]
  }
 ],
 "metadata": {
  "kernelspec": {
   "display_name": "venv-2023-ds-jobdesc",
   "language": "python",
   "name": "python3"
  },
  "language_info": {
   "codemirror_mode": {
    "name": "ipython",
    "version": 3
   },
   "file_extension": ".py",
   "mimetype": "text/x-python",
   "name": "python",
   "nbconvert_exporter": "python",
   "pygments_lexer": "ipython3",
   "version": "3.11.1"
  },
  "orig_nbformat": 4,
  "vscode": {
   "interpreter": {
    "hash": "e84ae5e43e02d1adf41d084c2a7f6cb396d85a190bcc98b3872f3819c2535d54"
   }
  }
 },
 "nbformat": 4,
 "nbformat_minor": 2
}
